{
 "cells": [
  {
   "cell_type": "markdown",
   "metadata": {},
   "source": [
    "import numpy as np\n",
    "import pandas as pd\n",
    "from statsmodels.datasets import grunfeld\n",
    "from linearmodels import PanelOLS\n",
    "from linearmodels import FamaMacBeth\n",
    "import time\n",
    "import matplotlib.pyplot as plt"
   ]
  },
  {
   "cell_type": "code",
   "execution_count": 38,
   "metadata": {},
   "outputs": [],
   "source": [
    "data = pd.read_csv(\"C:/1-Tsinghua/第三年/计量2/project/fama1.csv\")\n",
    "data1=data"
   ]
  },
  {
   "cell_type": "code",
   "execution_count": 41,
   "metadata": {},
   "outputs": [
    {
     "data": {
      "text/plain": [
       "str"
      ]
     },
     "execution_count": 41,
     "metadata": {},
     "output_type": "execute_result"
    }
   ],
   "source": [
    "type(data['month'][1])"
   ]
  },
  {
   "cell_type": "code",
   "execution_count": 45,
   "metadata": {},
   "outputs": [
    {
     "data": {
      "text/plain": [
       "numpy.float64"
      ]
     },
     "execution_count": 45,
     "metadata": {},
     "output_type": "execute_result"
    }
   ],
   "source": [
    "type(data['timestamp'][1])"
   ]
  },
  {
   "cell_type": "code",
   "execution_count": 43,
   "metadata": {},
   "outputs": [],
   "source": [
    "data['timestamp'] = data['month'].apply(lambda x:time.mktime(time.strptime(x,'%Y-%m')))"
   ]
  },
  {
   "cell_type": "code",
   "execution_count": 44,
   "metadata": {},
   "outputs": [
    {
     "data": {
      "text/html": [
       "<div>\n",
       "<style scoped>\n",
       "    .dataframe tbody tr th:only-of-type {\n",
       "        vertical-align: middle;\n",
       "    }\n",
       "\n",
       "    .dataframe tbody tr th {\n",
       "        vertical-align: top;\n",
       "    }\n",
       "\n",
       "    .dataframe thead th {\n",
       "        text-align: right;\n",
       "    }\n",
       "</style>\n",
       "<table border=\"1\" class=\"dataframe\">\n",
       "  <thead>\n",
       "    <tr style=\"text-align: right;\">\n",
       "      <th></th>\n",
       "      <th>stkcd</th>\n",
       "      <th>stkcd_str</th>\n",
       "      <th>year</th>\n",
       "      <th>month</th>\n",
       "      <th>IV</th>\n",
       "      <th>IS</th>\n",
       "      <th>momentum</th>\n",
       "      <th>turnover</th>\n",
       "      <th>marketvalue</th>\n",
       "      <th>month2</th>\n",
       "      <th>_stat_1</th>\n",
       "      <th>_stat_2</th>\n",
       "      <th>_stat_3</th>\n",
       "      <th>_stat_4</th>\n",
       "      <th>_stat_5</th>\n",
       "      <th>_b_cons</th>\n",
       "      <th>EIS</th>\n",
       "      <th>monthreturn</th>\n",
       "      <th>monthreturn2</th>\n",
       "      <th>timestamp</th>\n",
       "    </tr>\n",
       "  </thead>\n",
       "  <tbody>\n",
       "    <tr>\n",
       "      <td>0</td>\n",
       "      <td>1</td>\n",
       "      <td>1</td>\n",
       "      <td>2011</td>\n",
       "      <td>2011-01</td>\n",
       "      <td>0.011657</td>\n",
       "      <td>-0.154883</td>\n",
       "      <td>-0.294470</td>\n",
       "      <td>15.7912</td>\n",
       "      <td>5.335556e+10</td>\n",
       "      <td>2011-01</td>\n",
       "      <td>NaN</td>\n",
       "      <td>NaN</td>\n",
       "      <td>NaN</td>\n",
       "      <td>NaN</td>\n",
       "      <td>NaN</td>\n",
       "      <td>NaN</td>\n",
       "      <td>NaN</td>\n",
       "      <td>-0.030399</td>\n",
       "      <td>0.040496</td>\n",
       "      <td>1.293811e+09</td>\n",
       "    </tr>\n",
       "    <tr>\n",
       "      <td>1</td>\n",
       "      <td>1</td>\n",
       "      <td>1</td>\n",
       "      <td>2011</td>\n",
       "      <td>2011-02</td>\n",
       "      <td>0.011518</td>\n",
       "      <td>-0.068937</td>\n",
       "      <td>-0.290423</td>\n",
       "      <td>13.2757</td>\n",
       "      <td>5.551627e+10</td>\n",
       "      <td>2011-02</td>\n",
       "      <td>NaN</td>\n",
       "      <td>NaN</td>\n",
       "      <td>NaN</td>\n",
       "      <td>NaN</td>\n",
       "      <td>NaN</td>\n",
       "      <td>NaN</td>\n",
       "      <td>NaN</td>\n",
       "      <td>0.040496</td>\n",
       "      <td>0.009416</td>\n",
       "      <td>1.296490e+09</td>\n",
       "    </tr>\n",
       "    <tr>\n",
       "      <td>2</td>\n",
       "      <td>1</td>\n",
       "      <td>1</td>\n",
       "      <td>2011</td>\n",
       "      <td>2011-03</td>\n",
       "      <td>0.011100</td>\n",
       "      <td>-0.174547</td>\n",
       "      <td>-0.306897</td>\n",
       "      <td>24.9061</td>\n",
       "      <td>5.603902e+10</td>\n",
       "      <td>2011-03</td>\n",
       "      <td>NaN</td>\n",
       "      <td>NaN</td>\n",
       "      <td>NaN</td>\n",
       "      <td>NaN</td>\n",
       "      <td>NaN</td>\n",
       "      <td>NaN</td>\n",
       "      <td>NaN</td>\n",
       "      <td>0.009416</td>\n",
       "      <td>0.131841</td>\n",
       "      <td>1.298909e+09</td>\n",
       "    </tr>\n",
       "    <tr>\n",
       "      <td>3</td>\n",
       "      <td>1</td>\n",
       "      <td>1</td>\n",
       "      <td>2011</td>\n",
       "      <td>2011-04</td>\n",
       "      <td>0.011885</td>\n",
       "      <td>0.252071</td>\n",
       "      <td>-0.114786</td>\n",
       "      <td>32.2970</td>\n",
       "      <td>6.342725e+10</td>\n",
       "      <td>2011-04</td>\n",
       "      <td>NaN</td>\n",
       "      <td>NaN</td>\n",
       "      <td>NaN</td>\n",
       "      <td>NaN</td>\n",
       "      <td>NaN</td>\n",
       "      <td>NaN</td>\n",
       "      <td>NaN</td>\n",
       "      <td>0.131841</td>\n",
       "      <td>-0.033409</td>\n",
       "      <td>1.301587e+09</td>\n",
       "    </tr>\n",
       "    <tr>\n",
       "      <td>4</td>\n",
       "      <td>1</td>\n",
       "      <td>1</td>\n",
       "      <td>2011</td>\n",
       "      <td>2011-06</td>\n",
       "      <td>0.011736</td>\n",
       "      <td>0.351524</td>\n",
       "      <td>-0.025128</td>\n",
       "      <td>13.8567</td>\n",
       "      <td>5.948918e+10</td>\n",
       "      <td>2011-06</td>\n",
       "      <td>NaN</td>\n",
       "      <td>NaN</td>\n",
       "      <td>NaN</td>\n",
       "      <td>NaN</td>\n",
       "      <td>NaN</td>\n",
       "      <td>NaN</td>\n",
       "      <td>NaN</td>\n",
       "      <td>-0.033409</td>\n",
       "      <td>0.015817</td>\n",
       "      <td>1.306858e+09</td>\n",
       "    </tr>\n",
       "  </tbody>\n",
       "</table>\n",
       "</div>"
      ],
      "text/plain": [
       "   stkcd  stkcd_str  year    month        IV        IS  momentum  turnover  \\\n",
       "0      1          1  2011  2011-01  0.011657 -0.154883 -0.294470   15.7912   \n",
       "1      1          1  2011  2011-02  0.011518 -0.068937 -0.290423   13.2757   \n",
       "2      1          1  2011  2011-03  0.011100 -0.174547 -0.306897   24.9061   \n",
       "3      1          1  2011  2011-04  0.011885  0.252071 -0.114786   32.2970   \n",
       "4      1          1  2011  2011-06  0.011736  0.351524 -0.025128   13.8567   \n",
       "\n",
       "    marketvalue   month2  _stat_1  _stat_2  _stat_3  _stat_4  _stat_5  \\\n",
       "0  5.335556e+10  2011-01      NaN      NaN      NaN      NaN      NaN   \n",
       "1  5.551627e+10  2011-02      NaN      NaN      NaN      NaN      NaN   \n",
       "2  5.603902e+10  2011-03      NaN      NaN      NaN      NaN      NaN   \n",
       "3  6.342725e+10  2011-04      NaN      NaN      NaN      NaN      NaN   \n",
       "4  5.948918e+10  2011-06      NaN      NaN      NaN      NaN      NaN   \n",
       "\n",
       "   _b_cons  EIS  monthreturn  monthreturn2     timestamp  \n",
       "0      NaN  NaN    -0.030399      0.040496  1.293811e+09  \n",
       "1      NaN  NaN     0.040496      0.009416  1.296490e+09  \n",
       "2      NaN  NaN     0.009416      0.131841  1.298909e+09  \n",
       "3      NaN  NaN     0.131841     -0.033409  1.301587e+09  \n",
       "4      NaN  NaN    -0.033409      0.015817  1.306858e+09  "
      ]
     },
     "execution_count": 44,
     "metadata": {},
     "output_type": "execute_result"
    }
   ],
   "source": [
    "data.head()"
   ]
  },
  {
   "cell_type": "code",
   "execution_count": 46,
   "metadata": {},
   "outputs": [],
   "source": [
    "datax=data.set_index(['stkcd','timestamp'])"
   ]
  },
  {
   "cell_type": "code",
   "execution_count": 86,
   "metadata": {},
   "outputs": [],
   "source": [
    "stknum = data[\"stkcd\"].drop_duplicates()\n",
    "stkcd=data[\"stkcd\"]\n",
    "allstk = []\n",
    "for i in stknum:\n",
    "    allstk.append(i)"
   ]
  },
  {
   "cell_type": "code",
   "execution_count": 116,
   "metadata": {},
   "outputs": [],
   "source": [
    "newlist2=[]\n",
    "for i in newlist:\n",
    "    count = 0\n",
    "    num=i\n",
    "    for j in stkcd:\n",
    "        if num ==j:\n",
    "            count+=1\n",
    "        else:\n",
    "            pass\n",
    "    #print(num,count)\n",
    "    if count >=100:\n",
    "        newlist2.append(num)"
   ]
  },
  {
   "cell_type": "code",
   "execution_count": 118,
   "metadata": {},
   "outputs": [
    {
     "data": {
      "text/plain": [
       "1306"
      ]
     },
     "execution_count": 118,
     "metadata": {},
     "output_type": "execute_result"
    }
   ],
   "source": [
    "len(newlist2)"
   ]
  },
  {
   "cell_type": "code",
   "execution_count": 119,
   "metadata": {},
   "outputs": [],
   "source": [
    "dlist=list(set(allstk).difference(set(newlist2)))\n",
    "data1=data1[~data1['stkcd'].isin(dlist)]\n",
    "stknum2 = data1[\"stkcd\"].drop_duplicates()"
   ]
  },
  {
   "cell_type": "code",
   "execution_count": 108,
   "metadata": {},
   "outputs": [],
   "source": [
    "x=list(stknum2)"
   ]
  },
  {
   "cell_type": "code",
   "execution_count": 122,
   "metadata": {},
   "outputs": [],
   "source": [
    "dataz=data1.set_index(['stkcd','timestamp'])"
   ]
  },
  {
   "cell_type": "code",
   "execution_count": 123,
   "metadata": {},
   "outputs": [],
   "source": [
    "fama2=FamaMacBeth(dataz.monthreturn2,dataz.EIS).fit(cov_type='kernel',debiased=True)"
   ]
  },
  {
   "cell_type": "code",
   "execution_count": 129,
   "metadata": {},
   "outputs": [],
   "source": [
    "fama3=FamaMacBeth(dataz.monthreturn2,dataz[[\"EIS\",\"IV\"]]).fit(cov_type='kernel',debiased=True)"
   ]
  },
  {
   "cell_type": "code",
   "execution_count": 153,
   "metadata": {},
   "outputs": [],
   "source": []
  },
  {
   "cell_type": "code",
   "execution_count": 162,
   "metadata": {},
   "outputs": [],
   "source": [
    "group=data1.groupby('stkcd')\n",
    "r=group['monthreturn'].mean()\n",
    "eis=group['EIS'].mean()"
   ]
  },
  {
   "cell_type": "code",
   "execution_count": 165,
   "metadata": {},
   "outputs": [
    {
     "data": {
      "text/plain": [
       "1306"
      ]
     },
     "execution_count": 165,
     "metadata": {},
     "output_type": "execute_result"
    }
   ],
   "source": []
  },
  {
   "cell_type": "code",
   "execution_count": 131,
   "metadata": {},
   "outputs": [],
   "source": [
    "fama4=FamaMacBeth(dataz.monthreturn,dataz.EIS).fit(cov_type='kernel',debiased=True)"
   ]
  },
  {
   "cell_type": "code",
   "execution_count": 124,
   "metadata": {},
   "outputs": [
    {
     "name": "stdout",
     "output_type": "stream",
     "text": [
      "                            FamaMacBeth Estimation Summary                           \n",
      "=====================================================================================\n",
      "Dep. Variable:                monthreturn2   R-squared:                        0.0083\n",
      "Estimator:                     FamaMacBeth   R-squared (Between):              0.5649\n",
      "No. Observations:                   119479   R-squared (Within):               0.0009\n",
      "Date:                     Fri, Jun 05 2020   R-squared (Overall):              0.0083\n",
      "Time:                             17:40:56   Log-likelihood                 7.505e+04\n",
      "Cov. Estimator:    Fama-MacBeth Kernel Cov                                           \n",
      "                                             F-statistic:                      997.83\n",
      "Entities:                             1304   P-value                           0.0000\n",
      "Avg Obs:                            91.625   Distribution:                F(1,119478)\n",
      "Min Obs:                            87.000                                           \n",
      "Max Obs:                            95.000   F-statistic (robust):             2.0054\n",
      "                                             P-value                           0.1567\n",
      "Time periods:                           95   Distribution:                F(1,119478)\n",
      "Avg Obs:                            1257.7                                           \n",
      "Min Obs:                            1006.0                                           \n",
      "Max Obs:                            1303.0                                           \n",
      "                                                                                     \n",
      "                             Parameter Estimates                              \n",
      "==============================================================================\n",
      "            Parameter  Std. Err.     T-stat    P-value    Lower CI    Upper CI\n",
      "------------------------------------------------------------------------------\n",
      "EIS            0.0121     0.0086     1.4161     0.1567     -0.0047      0.0289\n",
      "==============================================================================\n"
     ]
    }
   ],
   "source": [
    "print(fama2)"
   ]
  },
  {
   "cell_type": "code",
   "execution_count": 125,
   "metadata": {},
   "outputs": [
    {
     "data": {
      "text/html": [
       "<div>\n",
       "<style scoped>\n",
       "    .dataframe tbody tr th:only-of-type {\n",
       "        vertical-align: middle;\n",
       "    }\n",
       "\n",
       "    .dataframe tbody tr th {\n",
       "        vertical-align: top;\n",
       "    }\n",
       "\n",
       "    .dataframe thead th {\n",
       "        text-align: right;\n",
       "    }\n",
       "</style>\n",
       "<table border=\"1\" class=\"dataframe\">\n",
       "  <thead>\n",
       "    <tr style=\"text-align: right;\">\n",
       "      <th></th>\n",
       "      <th></th>\n",
       "      <th>stkcd_str</th>\n",
       "      <th>year</th>\n",
       "      <th>month</th>\n",
       "      <th>IV</th>\n",
       "      <th>IS</th>\n",
       "      <th>momentum</th>\n",
       "      <th>turnover</th>\n",
       "      <th>marketvalue</th>\n",
       "      <th>month2</th>\n",
       "      <th>_stat_1</th>\n",
       "      <th>_stat_2</th>\n",
       "      <th>_stat_3</th>\n",
       "      <th>_stat_4</th>\n",
       "      <th>_stat_5</th>\n",
       "      <th>_b_cons</th>\n",
       "      <th>EIS</th>\n",
       "      <th>monthreturn</th>\n",
       "      <th>monthreturn2</th>\n",
       "    </tr>\n",
       "    <tr>\n",
       "      <th>stkcd</th>\n",
       "      <th>timestamp</th>\n",
       "      <th></th>\n",
       "      <th></th>\n",
       "      <th></th>\n",
       "      <th></th>\n",
       "      <th></th>\n",
       "      <th></th>\n",
       "      <th></th>\n",
       "      <th></th>\n",
       "      <th></th>\n",
       "      <th></th>\n",
       "      <th></th>\n",
       "      <th></th>\n",
       "      <th></th>\n",
       "      <th></th>\n",
       "      <th></th>\n",
       "      <th></th>\n",
       "      <th></th>\n",
       "      <th></th>\n",
       "    </tr>\n",
       "  </thead>\n",
       "  <tbody>\n",
       "    <tr>\n",
       "      <td rowspan=\"5\" valign=\"top\">1</td>\n",
       "      <td>1.293811e+09</td>\n",
       "      <td>1</td>\n",
       "      <td>2011</td>\n",
       "      <td>2011-01</td>\n",
       "      <td>0.011657</td>\n",
       "      <td>-0.154883</td>\n",
       "      <td>-0.294470</td>\n",
       "      <td>15.7912</td>\n",
       "      <td>5.335556e+10</td>\n",
       "      <td>2011-01</td>\n",
       "      <td>NaN</td>\n",
       "      <td>NaN</td>\n",
       "      <td>NaN</td>\n",
       "      <td>NaN</td>\n",
       "      <td>NaN</td>\n",
       "      <td>NaN</td>\n",
       "      <td>NaN</td>\n",
       "      <td>-0.030399</td>\n",
       "      <td>0.040496</td>\n",
       "    </tr>\n",
       "    <tr>\n",
       "      <td>1.296490e+09</td>\n",
       "      <td>1</td>\n",
       "      <td>2011</td>\n",
       "      <td>2011-02</td>\n",
       "      <td>0.011518</td>\n",
       "      <td>-0.068937</td>\n",
       "      <td>-0.290423</td>\n",
       "      <td>13.2757</td>\n",
       "      <td>5.551627e+10</td>\n",
       "      <td>2011-02</td>\n",
       "      <td>NaN</td>\n",
       "      <td>NaN</td>\n",
       "      <td>NaN</td>\n",
       "      <td>NaN</td>\n",
       "      <td>NaN</td>\n",
       "      <td>NaN</td>\n",
       "      <td>NaN</td>\n",
       "      <td>0.040496</td>\n",
       "      <td>0.009416</td>\n",
       "    </tr>\n",
       "    <tr>\n",
       "      <td>1.298909e+09</td>\n",
       "      <td>1</td>\n",
       "      <td>2011</td>\n",
       "      <td>2011-03</td>\n",
       "      <td>0.011100</td>\n",
       "      <td>-0.174547</td>\n",
       "      <td>-0.306897</td>\n",
       "      <td>24.9061</td>\n",
       "      <td>5.603902e+10</td>\n",
       "      <td>2011-03</td>\n",
       "      <td>NaN</td>\n",
       "      <td>NaN</td>\n",
       "      <td>NaN</td>\n",
       "      <td>NaN</td>\n",
       "      <td>NaN</td>\n",
       "      <td>NaN</td>\n",
       "      <td>NaN</td>\n",
       "      <td>0.009416</td>\n",
       "      <td>0.131841</td>\n",
       "    </tr>\n",
       "    <tr>\n",
       "      <td>1.301587e+09</td>\n",
       "      <td>1</td>\n",
       "      <td>2011</td>\n",
       "      <td>2011-04</td>\n",
       "      <td>0.011885</td>\n",
       "      <td>0.252071</td>\n",
       "      <td>-0.114786</td>\n",
       "      <td>32.2970</td>\n",
       "      <td>6.342725e+10</td>\n",
       "      <td>2011-04</td>\n",
       "      <td>NaN</td>\n",
       "      <td>NaN</td>\n",
       "      <td>NaN</td>\n",
       "      <td>NaN</td>\n",
       "      <td>NaN</td>\n",
       "      <td>NaN</td>\n",
       "      <td>NaN</td>\n",
       "      <td>0.131841</td>\n",
       "      <td>-0.033409</td>\n",
       "    </tr>\n",
       "    <tr>\n",
       "      <td>1.306858e+09</td>\n",
       "      <td>1</td>\n",
       "      <td>2011</td>\n",
       "      <td>2011-06</td>\n",
       "      <td>0.011736</td>\n",
       "      <td>0.351524</td>\n",
       "      <td>-0.025128</td>\n",
       "      <td>13.8567</td>\n",
       "      <td>5.948918e+10</td>\n",
       "      <td>2011-06</td>\n",
       "      <td>NaN</td>\n",
       "      <td>NaN</td>\n",
       "      <td>NaN</td>\n",
       "      <td>NaN</td>\n",
       "      <td>NaN</td>\n",
       "      <td>NaN</td>\n",
       "      <td>NaN</td>\n",
       "      <td>-0.033409</td>\n",
       "      <td>0.015817</td>\n",
       "    </tr>\n",
       "    <tr>\n",
       "      <td>...</td>\n",
       "      <td>...</td>\n",
       "      <td>...</td>\n",
       "      <td>...</td>\n",
       "      <td>...</td>\n",
       "      <td>...</td>\n",
       "      <td>...</td>\n",
       "      <td>...</td>\n",
       "      <td>...</td>\n",
       "      <td>...</td>\n",
       "      <td>...</td>\n",
       "      <td>...</td>\n",
       "      <td>...</td>\n",
       "      <td>...</td>\n",
       "      <td>...</td>\n",
       "      <td>...</td>\n",
       "      <td>...</td>\n",
       "      <td>...</td>\n",
       "      <td>...</td>\n",
       "      <td>...</td>\n",
       "    </tr>\n",
       "    <tr>\n",
       "      <td rowspan=\"5\" valign=\"top\">601999</td>\n",
       "      <td>1.564589e+09</td>\n",
       "      <td>601999</td>\n",
       "      <td>2019</td>\n",
       "      <td>2019-08</td>\n",
       "      <td>0.015734</td>\n",
       "      <td>0.831722</td>\n",
       "      <td>0.124949</td>\n",
       "      <td>4.7654</td>\n",
       "      <td>3.156741e+09</td>\n",
       "      <td>2019-08</td>\n",
       "      <td>0.113172</td>\n",
       "      <td>-9.221270</td>\n",
       "      <td>-0.949675</td>\n",
       "      <td>0.000254</td>\n",
       "      <td>-4.529688e-13</td>\n",
       "      <td>0.703525</td>\n",
       "      <td>0.533689</td>\n",
       "      <td>-0.030457</td>\n",
       "      <td>-0.019197</td>\n",
       "    </tr>\n",
       "    <tr>\n",
       "      <td>1.567267e+09</td>\n",
       "      <td>601999</td>\n",
       "      <td>2019</td>\n",
       "      <td>2019-09</td>\n",
       "      <td>0.015726</td>\n",
       "      <td>0.823324</td>\n",
       "      <td>0.090743</td>\n",
       "      <td>5.4474</td>\n",
       "      <td>3.096141e+09</td>\n",
       "      <td>2019-09</td>\n",
       "      <td>0.105772</td>\n",
       "      <td>-11.501519</td>\n",
       "      <td>-0.830157</td>\n",
       "      <td>0.000411</td>\n",
       "      <td>-5.412297e-13</td>\n",
       "      <td>0.797074</td>\n",
       "      <td>0.628519</td>\n",
       "      <td>-0.019197</td>\n",
       "      <td>0.000000</td>\n",
       "    </tr>\n",
       "    <tr>\n",
       "      <td>1.569859e+09</td>\n",
       "      <td>601999</td>\n",
       "      <td>2019</td>\n",
       "      <td>2019-10</td>\n",
       "      <td>0.015856</td>\n",
       "      <td>0.796919</td>\n",
       "      <td>0.175853</td>\n",
       "      <td>3.7083</td>\n",
       "      <td>3.096141e+09</td>\n",
       "      <td>2019-10</td>\n",
       "      <td>0.104082</td>\n",
       "      <td>-13.577970</td>\n",
       "      <td>-0.844911</td>\n",
       "      <td>-0.000195</td>\n",
       "      <td>-4.356046e-13</td>\n",
       "      <td>0.824811</td>\n",
       "      <td>0.541810</td>\n",
       "      <td>0.000000</td>\n",
       "      <td>-0.065836</td>\n",
       "    </tr>\n",
       "    <tr>\n",
       "      <td>1.572538e+09</td>\n",
       "      <td>601999</td>\n",
       "      <td>2019</td>\n",
       "      <td>2019-11</td>\n",
       "      <td>0.015110</td>\n",
       "      <td>0.750130</td>\n",
       "      <td>-0.027382</td>\n",
       "      <td>5.0483</td>\n",
       "      <td>2.892302e+09</td>\n",
       "      <td>2019-11</td>\n",
       "      <td>0.119669</td>\n",
       "      <td>-10.613887</td>\n",
       "      <td>-0.909350</td>\n",
       "      <td>-0.000265</td>\n",
       "      <td>-5.818501e-13</td>\n",
       "      <td>0.810475</td>\n",
       "      <td>0.761745</td>\n",
       "      <td>-0.065836</td>\n",
       "      <td>0.135238</td>\n",
       "    </tr>\n",
       "    <tr>\n",
       "      <td>1.575130e+09</td>\n",
       "      <td>601999</td>\n",
       "      <td>2019</td>\n",
       "      <td>2019-12</td>\n",
       "      <td>0.016655</td>\n",
       "      <td>1.376733</td>\n",
       "      <td>0.197799</td>\n",
       "      <td>20.5868</td>\n",
       "      <td>3.283452e+09</td>\n",
       "      <td>2019-12</td>\n",
       "      <td>0.139203</td>\n",
       "      <td>-12.256909</td>\n",
       "      <td>-0.833088</td>\n",
       "      <td>-0.000442</td>\n",
       "      <td>-6.472790e-13</td>\n",
       "      <td>0.885262</td>\n",
       "      <td>0.696770</td>\n",
       "      <td>0.135238</td>\n",
       "      <td>NaN</td>\n",
       "    </tr>\n",
       "  </tbody>\n",
       "</table>\n",
       "<p>136352 rows × 18 columns</p>\n",
       "</div>"
      ],
      "text/plain": [
       "                     stkcd_str  year    month        IV        IS  momentum  \\\n",
       "stkcd  timestamp                                                              \n",
       "1      1.293811e+09          1  2011  2011-01  0.011657 -0.154883 -0.294470   \n",
       "       1.296490e+09          1  2011  2011-02  0.011518 -0.068937 -0.290423   \n",
       "       1.298909e+09          1  2011  2011-03  0.011100 -0.174547 -0.306897   \n",
       "       1.301587e+09          1  2011  2011-04  0.011885  0.252071 -0.114786   \n",
       "       1.306858e+09          1  2011  2011-06  0.011736  0.351524 -0.025128   \n",
       "...                        ...   ...      ...       ...       ...       ...   \n",
       "601999 1.564589e+09     601999  2019  2019-08  0.015734  0.831722  0.124949   \n",
       "       1.567267e+09     601999  2019  2019-09  0.015726  0.823324  0.090743   \n",
       "       1.569859e+09     601999  2019  2019-10  0.015856  0.796919  0.175853   \n",
       "       1.572538e+09     601999  2019  2019-11  0.015110  0.750130 -0.027382   \n",
       "       1.575130e+09     601999  2019  2019-12  0.016655  1.376733  0.197799   \n",
       "\n",
       "                     turnover   marketvalue   month2   _stat_1    _stat_2  \\\n",
       "stkcd  timestamp                                                            \n",
       "1      1.293811e+09   15.7912  5.335556e+10  2011-01       NaN        NaN   \n",
       "       1.296490e+09   13.2757  5.551627e+10  2011-02       NaN        NaN   \n",
       "       1.298909e+09   24.9061  5.603902e+10  2011-03       NaN        NaN   \n",
       "       1.301587e+09   32.2970  6.342725e+10  2011-04       NaN        NaN   \n",
       "       1.306858e+09   13.8567  5.948918e+10  2011-06       NaN        NaN   \n",
       "...                       ...           ...      ...       ...        ...   \n",
       "601999 1.564589e+09    4.7654  3.156741e+09  2019-08  0.113172  -9.221270   \n",
       "       1.567267e+09    5.4474  3.096141e+09  2019-09  0.105772 -11.501519   \n",
       "       1.569859e+09    3.7083  3.096141e+09  2019-10  0.104082 -13.577970   \n",
       "       1.572538e+09    5.0483  2.892302e+09  2019-11  0.119669 -10.613887   \n",
       "       1.575130e+09   20.5868  3.283452e+09  2019-12  0.139203 -12.256909   \n",
       "\n",
       "                      _stat_3   _stat_4       _stat_5   _b_cons       EIS  \\\n",
       "stkcd  timestamp                                                            \n",
       "1      1.293811e+09       NaN       NaN           NaN       NaN       NaN   \n",
       "       1.296490e+09       NaN       NaN           NaN       NaN       NaN   \n",
       "       1.298909e+09       NaN       NaN           NaN       NaN       NaN   \n",
       "       1.301587e+09       NaN       NaN           NaN       NaN       NaN   \n",
       "       1.306858e+09       NaN       NaN           NaN       NaN       NaN   \n",
       "...                       ...       ...           ...       ...       ...   \n",
       "601999 1.564589e+09 -0.949675  0.000254 -4.529688e-13  0.703525  0.533689   \n",
       "       1.567267e+09 -0.830157  0.000411 -5.412297e-13  0.797074  0.628519   \n",
       "       1.569859e+09 -0.844911 -0.000195 -4.356046e-13  0.824811  0.541810   \n",
       "       1.572538e+09 -0.909350 -0.000265 -5.818501e-13  0.810475  0.761745   \n",
       "       1.575130e+09 -0.833088 -0.000442 -6.472790e-13  0.885262  0.696770   \n",
       "\n",
       "                     monthreturn  monthreturn2  \n",
       "stkcd  timestamp                                \n",
       "1      1.293811e+09    -0.030399      0.040496  \n",
       "       1.296490e+09     0.040496      0.009416  \n",
       "       1.298909e+09     0.009416      0.131841  \n",
       "       1.301587e+09     0.131841     -0.033409  \n",
       "       1.306858e+09    -0.033409      0.015817  \n",
       "...                          ...           ...  \n",
       "601999 1.564589e+09    -0.030457     -0.019197  \n",
       "       1.567267e+09    -0.019197      0.000000  \n",
       "       1.569859e+09     0.000000     -0.065836  \n",
       "       1.572538e+09    -0.065836      0.135238  \n",
       "       1.575130e+09     0.135238           NaN  \n",
       "\n",
       "[136352 rows x 18 columns]"
      ]
     },
     "execution_count": 125,
     "metadata": {},
     "output_type": "execute_result"
    }
   ],
   "source": [
    "dataz"
   ]
  },
  {
   "cell_type": "code",
   "execution_count": 130,
   "metadata": {
    "scrolled": true
   },
   "outputs": [
    {
     "data": {
      "text/html": [
       "<table class=\"simpletable\">\n",
       "<caption>FamaMacBeth Estimation Summary</caption>\n",
       "<tr>\n",
       "  <th>Dep. Variable:</th>         <td>monthreturn2</td>       <th>  R-squared:         </th>     <td>0.0080</td>   \n",
       "</tr>\n",
       "<tr>\n",
       "  <th>Estimator:</th>              <td>FamaMacBeth</td>       <th>  R-squared (Between):</th>    <td>0.5374</td>   \n",
       "</tr>\n",
       "<tr>\n",
       "  <th>No. Observations:</th>         <td>119479</td>          <th>  R-squared (Within):</th>     <td>0.0010</td>   \n",
       "</tr>\n",
       "<tr>\n",
       "  <th>Date:</th>                <td>Fri, Jun 05 2020</td>     <th>  R-squared (Overall):</th>    <td>0.0080</td>   \n",
       "</tr>\n",
       "<tr>\n",
       "  <th>Time:</th>                    <td>18:06:14</td>         <th>  Log-likelihood     </th>    <td>7.503e+04</td> \n",
       "</tr>\n",
       "<tr>\n",
       "  <th>Cov. Estimator:</th>   <td>Fama-MacBeth Kernel Cov</td> <th>                     </th>        <td></td>      \n",
       "</tr>\n",
       "<tr>\n",
       "  <th></th>                             <td></td>             <th>  F-statistic:       </th>     <td>482.07</td>   \n",
       "</tr>\n",
       "<tr>\n",
       "  <th>Entities:</th>                  <td>1304</td>           <th>  P-value            </th>     <td>0.0000</td>   \n",
       "</tr>\n",
       "<tr>\n",
       "  <th>Avg Obs:</th>                  <td>91.625</td>          <th>  Distribution:      </th>   <td>F(2,119477)</td>\n",
       "</tr>\n",
       "<tr>\n",
       "  <th>Min Obs:</th>                  <td>87.000</td>          <th>                     </th>        <td></td>      \n",
       "</tr>\n",
       "<tr>\n",
       "  <th>Max Obs:</th>                  <td>95.000</td>          <th>  F-statistic (robust):</th>   <td>3.0667</td>   \n",
       "</tr>\n",
       "<tr>\n",
       "  <th></th>                             <td></td>             <th>  P-value            </th>     <td>0.0466</td>   \n",
       "</tr>\n",
       "<tr>\n",
       "  <th>Time periods:</th>               <td>95</td>            <th>  Distribution:      </th>   <td>F(2,119477)</td>\n",
       "</tr>\n",
       "<tr>\n",
       "  <th>Avg Obs:</th>                  <td>1257.7</td>          <th>                     </th>        <td></td>      \n",
       "</tr>\n",
       "<tr>\n",
       "  <th>Min Obs:</th>                  <td>1006.0</td>          <th>                     </th>        <td></td>      \n",
       "</tr>\n",
       "<tr>\n",
       "  <th>Max Obs:</th>                  <td>1303.0</td>          <th>                     </th>        <td></td>      \n",
       "</tr>\n",
       "<tr>\n",
       "  <th></th>                             <td></td>             <th>                     </th>        <td></td>      \n",
       "</tr>\n",
       "</table>\n",
       "<table class=\"simpletable\">\n",
       "<caption>Parameter Estimates</caption>\n",
       "<tr>\n",
       "   <td></td>   <th>Parameter</th> <th>Std. Err.</th> <th>T-stat</th>  <th>P-value</th> <th>Lower CI</th> <th>Upper CI</th>\n",
       "</tr>\n",
       "<tr>\n",
       "  <th>EIS</th>  <td>0.0153</td>    <td>0.0063</td>   <td>2.4302</td>  <td>0.0151</td>   <td>0.0030</td>   <td>0.0276</td> \n",
       "</tr>\n",
       "<tr>\n",
       "  <th>IV</th>   <td>-0.1074</td>   <td>0.2652</td>   <td>-0.4048</td> <td>0.6856</td>   <td>-0.6272</td>  <td>0.4125</td> \n",
       "</tr>\n",
       "</table><br/>id: 0x222c796d588"
      ],
      "text/plain": [
       "                            FamaMacBeth Estimation Summary                           \n",
       "=====================================================================================\n",
       "Dep. Variable:                monthreturn2   R-squared:                        0.0080\n",
       "Estimator:                     FamaMacBeth   R-squared (Between):              0.5374\n",
       "No. Observations:                   119479   R-squared (Within):               0.0010\n",
       "Date:                     Fri, Jun 05 2020   R-squared (Overall):              0.0080\n",
       "Time:                             18:06:14   Log-likelihood                 7.503e+04\n",
       "Cov. Estimator:    Fama-MacBeth Kernel Cov                                           \n",
       "                                             F-statistic:                      482.07\n",
       "Entities:                             1304   P-value                           0.0000\n",
       "Avg Obs:                            91.625   Distribution:                F(2,119477)\n",
       "Min Obs:                            87.000                                           \n",
       "Max Obs:                            95.000   F-statistic (robust):             3.0667\n",
       "                                             P-value                           0.0466\n",
       "Time periods:                           95   Distribution:                F(2,119477)\n",
       "Avg Obs:                            1257.7                                           \n",
       "Min Obs:                            1006.0                                           \n",
       "Max Obs:                            1303.0                                           \n",
       "                                                                                     \n",
       "                             Parameter Estimates                              \n",
       "==============================================================================\n",
       "            Parameter  Std. Err.     T-stat    P-value    Lower CI    Upper CI\n",
       "------------------------------------------------------------------------------\n",
       "EIS            0.0153     0.0063     2.4302     0.0151      0.0030      0.0276\n",
       "IV            -0.1074     0.2652    -0.4048     0.6856     -0.6272      0.4125\n",
       "==============================================================================\n",
       "FamaMacBethResults, id: 0x222c796d588"
      ]
     },
     "execution_count": 130,
     "metadata": {},
     "output_type": "execute_result"
    }
   ],
   "source": [
    "fama3"
   ]
  },
  {
   "cell_type": "code",
   "execution_count": 132,
   "metadata": {},
   "outputs": [
    {
     "data": {
      "text/html": [
       "<table class=\"simpletable\">\n",
       "<caption>FamaMacBeth Estimation Summary</caption>\n",
       "<tr>\n",
       "  <th>Dep. Variable:</th>          <td>monthreturn</td>       <th>  R-squared:         </th>   <td>-4.454e-05</td> \n",
       "</tr>\n",
       "<tr>\n",
       "  <th>Estimator:</th>              <td>FamaMacBeth</td>       <th>  R-squared (Between):</th>    <td>0.4074</td>   \n",
       "</tr>\n",
       "<tr>\n",
       "  <th>No. Observations:</th>         <td>120783</td>          <th>  R-squared (Within):</th>     <td>-0.0053</td>  \n",
       "</tr>\n",
       "<tr>\n",
       "  <th>Date:</th>                <td>Fri, Jun 05 2020</td>     <th>  R-squared (Overall):</th>  <td>-4.454e-05</td> \n",
       "</tr>\n",
       "<tr>\n",
       "  <th>Time:</th>                    <td>18:08:35</td>         <th>  Log-likelihood     </th>    <td>7.57e+04</td>  \n",
       "</tr>\n",
       "<tr>\n",
       "  <th>Cov. Estimator:</th>   <td>Fama-MacBeth Kernel Cov</td> <th>                     </th>        <td></td>      \n",
       "</tr>\n",
       "<tr>\n",
       "  <th></th>                             <td></td>             <th>  F-statistic:       </th>     <td>-5.3798</td>  \n",
       "</tr>\n",
       "<tr>\n",
       "  <th>Entities:</th>                  <td>1304</td>           <th>  P-value            </th>     <td>1.0000</td>   \n",
       "</tr>\n",
       "<tr>\n",
       "  <th>Avg Obs:</th>                  <td>92.625</td>          <th>  Distribution:      </th>   <td>F(1,120782)</td>\n",
       "</tr>\n",
       "<tr>\n",
       "  <th>Min Obs:</th>                  <td>88.000</td>          <th>                     </th>        <td></td>      \n",
       "</tr>\n",
       "<tr>\n",
       "  <th>Max Obs:</th>                  <td>96.000</td>          <th>  F-statistic (robust):</th>   <td>0.5521</td>   \n",
       "</tr>\n",
       "<tr>\n",
       "  <th></th>                             <td></td>             <th>  P-value            </th>     <td>0.4575</td>   \n",
       "</tr>\n",
       "<tr>\n",
       "  <th>Time periods:</th>               <td>96</td>            <th>  Distribution:      </th>   <td>F(1,120782)</td>\n",
       "</tr>\n",
       "<tr>\n",
       "  <th>Avg Obs:</th>                  <td>1258.2</td>          <th>                     </th>        <td></td>      \n",
       "</tr>\n",
       "<tr>\n",
       "  <th>Min Obs:</th>                  <td>1006.0</td>          <th>                     </th>        <td></td>      \n",
       "</tr>\n",
       "<tr>\n",
       "  <th>Max Obs:</th>                  <td>1303.0</td>          <th>                     </th>        <td></td>      \n",
       "</tr>\n",
       "<tr>\n",
       "  <th></th>                             <td></td>             <th>                     </th>        <td></td>      \n",
       "</tr>\n",
       "</table>\n",
       "<table class=\"simpletable\">\n",
       "<caption>Parameter Estimates</caption>\n",
       "<tr>\n",
       "   <td></td>   <th>Parameter</th> <th>Std. Err.</th> <th>T-stat</th> <th>P-value</th> <th>Lower CI</th> <th>Upper CI</th>\n",
       "</tr>\n",
       "<tr>\n",
       "  <th>EIS</th>  <td>0.0058</td>    <td>0.0078</td>   <td>0.7430</td> <td>0.4575</td>   <td>-0.0094</td>  <td>0.0210</td> \n",
       "</tr>\n",
       "</table><br/>id: 0x222c797d7c8"
      ],
      "text/plain": [
       "                            FamaMacBeth Estimation Summary                           \n",
       "=====================================================================================\n",
       "Dep. Variable:                 monthreturn   R-squared:                    -4.454e-05\n",
       "Estimator:                     FamaMacBeth   R-squared (Between):              0.4074\n",
       "No. Observations:                   120783   R-squared (Within):              -0.0053\n",
       "Date:                     Fri, Jun 05 2020   R-squared (Overall):          -4.454e-05\n",
       "Time:                             18:08:35   Log-likelihood                  7.57e+04\n",
       "Cov. Estimator:    Fama-MacBeth Kernel Cov                                           \n",
       "                                             F-statistic:                     -5.3798\n",
       "Entities:                             1304   P-value                           1.0000\n",
       "Avg Obs:                            92.625   Distribution:                F(1,120782)\n",
       "Min Obs:                            88.000                                           \n",
       "Max Obs:                            96.000   F-statistic (robust):             0.5521\n",
       "                                             P-value                           0.4575\n",
       "Time periods:                           96   Distribution:                F(1,120782)\n",
       "Avg Obs:                            1258.2                                           \n",
       "Min Obs:                            1006.0                                           \n",
       "Max Obs:                            1303.0                                           \n",
       "                                                                                     \n",
       "                             Parameter Estimates                              \n",
       "==============================================================================\n",
       "            Parameter  Std. Err.     T-stat    P-value    Lower CI    Upper CI\n",
       "------------------------------------------------------------------------------\n",
       "EIS            0.0058     0.0078     0.7430     0.4575     -0.0094      0.0210\n",
       "==============================================================================\n",
       "FamaMacBethResults, id: 0x222c797d7c8"
      ]
     },
     "execution_count": 132,
     "metadata": {},
     "output_type": "execute_result"
    }
   ],
   "source": [
    "fama4"
   ]
  },
  {
   "cell_type": "code",
   "execution_count": 145,
   "metadata": {},
   "outputs": [],
   "source": []
  },
  {
   "cell_type": "code",
   "execution_count": 164,
   "metadata": {},
   "outputs": [
    {
     "data": {
      "image/png": "[encoded data removed]",
      "text/plain": [
       "<Figure size 432x288 with 1 Axes>"
      ]
     },
     "metadata": {
      "needs_background": "light"
     },
     "output_type": "display_data"
    }
   ],
   "source": [
    "x=list(dataz['EIS'])\n",
    "y=list(dataz['monthreturn'])\n",
    "y2=list(dataz['monthreturn2'])\n",
    "plt.scatter(eis,r,s=1)\n",
    "plt.xlabel(\"EIS\",fontsize=14)\n",
    "plt.ylabel(\"Expected return\",fontsize=14)\n",
    "plt.show()"
   ]
  },
  {
   "cell_type": "code",
   "execution_count": 218,
   "metadata": {},
   "outputs": [],
   "source": [
    "sorting=pd.DataFrame(columns=['EIS','return'])"
   ]
  },
  {
   "cell_type": "code",
   "execution_count": 220,
   "metadata": {},
   "outputs": [],
   "source": [
    "sorting['EIS']=eis\n",
    "sorting['return']=r"
   ]
  },
  {
   "cell_type": "code",
   "execution_count": 223,
   "metadata": {},
   "outputs": [],
   "source": [
    "quantiles=[]\n",
    "quantiles.append(sorting['EIS'].min()-a)\n",
    "quantiles.append(sorting['EIS'].quantile(q=0.20))\n",
    "quantiles.append(sorting['EIS'].quantile(q=0.40))\n",
    "quantiles.append(sorting['EIS'].quantile(q=0.60))\n",
    "quantiles.append(sorting['EIS'].quantile(q=0.80))\n",
    "quantiles.append(sorting['EIS'].quantile(q=0.80)+a)"
   ]
  },
  {
   "cell_type": "code",
   "execution_count": 235,
   "metadata": {},
   "outputs": [],
   "source": [
    "fenzu = pd.qcut(sorting['EIS'],5)"
   ]
  },
  {
   "cell_type": "code",
   "execution_count": 236,
   "metadata": {
    "scrolled": true
   },
   "outputs": [
    {
     "data": {
      "text/plain": [
       "(0.97, 1.133]       261\n",
       "(0.923, 0.97]       261\n",
       "(0.796, 0.876]      261\n",
       "(-0.0346, 0.796]    261\n",
       "(0.876, 0.923]      260\n",
       "Name: EIS, dtype: int64"
      ]
     },
     "execution_count": 236,
     "metadata": {},
     "output_type": "execute_result"
    }
   ],
   "source": [
    "pd.value_counts(fenzu) "
   ]
  },
  {
   "cell_type": "code",
   "execution_count": 234,
   "metadata": {},
   "outputs": [],
   "source": [
    "sorting=sorting.sort_values(by=['EIS'])"
   ]
  },
  {
   "cell_type": "code",
   "execution_count": 244,
   "metadata": {},
   "outputs": [],
   "source": [
    "rr=[]\n",
    "num=13\n",
    "for i in range(100):\n",
    "    m=sorting['return'][num*i:num*i+num].mean()\n",
    "    rr.append(m)"
   ]
  },
  {
   "cell_type": "code",
   "execution_count": 250,
   "metadata": {},
   "outputs": [],
   "source": [
    "mean=[]\n",
    "num=13\n",
    "for i in range(100):\n",
    "    m=sorting['EIS'][num*i:num*i+num].mean()\n",
    "    mean.append(m)"
   ]
  },
  {
   "cell_type": "code",
   "execution_count": 252,
   "metadata": {},
   "outputs": [
    {
     "data": {
      "image/png": "[encoded data removed]",
      "text/plain": [
       "<Figure size 432x288 with 1 Axes>"
      ]
     },
     "metadata": {
      "needs_background": "light"
     },
     "output_type": "display_data"
    }
   ],
   "source": [
    "plt.scatter(mean,rr,s=1)\n",
    "plt.xlabel(\"EIS\",fontsize=14)\n",
    "plt.ylabel(\"Expected return\",fontsize=14)\n",
    "plt.show()"
   ]
  },
  {
   "cell_type": "code",
   "execution_count": 243,
   "metadata": {},
   "outputs": [
    {
     "data": {
      "text/plain": [
       "[0.015505089829099799,\n",
       " 0.009252535468150906,\n",
       " 0.006496471456859848,\n",
       " 0.004250108364722645,\n",
       " 0.001490423025751835]"
      ]
     },
     "execution_count": 243,
     "metadata": {},
     "output_type": "execute_result"
    }
   ],
   "source": [
    "rr"
   ]
  },
  {
   "cell_type": "code",
   "execution_count": 239,
   "metadata": {},
   "outputs": [
    {
     "data": {
      "text/plain": [
       "1306"
      ]
     },
     "execution_count": 239,
     "metadata": {},
     "output_type": "execute_result"
    }
   ],
   "source": [
    "len(sorting['EIS'])"
   ]
  }
 ],
 "metadata": {
  "kernelspec": {
   "display_name": "Python 3",
   "language": "python",
   "name": "python3"
  },
  "language_info": {
   "codemirror_mode": {
    "name": "ipython",
    "version": 3
   },
   "file_extension": ".py",
   "mimetype": "text/x-python",
   "name": "python",
   "nbconvert_exporter": "python",
   "pygments_lexer": "ipython3",
   "version": "3.7.4"
  }
 },
 "nbformat": 4,
 "nbformat_minor": 2
}
